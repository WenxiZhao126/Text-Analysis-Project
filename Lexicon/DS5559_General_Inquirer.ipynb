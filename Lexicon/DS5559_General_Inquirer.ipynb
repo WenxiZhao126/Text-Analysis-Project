{
 "cells": [
  {
   "cell_type": "markdown",
   "metadata": {},
   "source": [
    "# Synopsis\n",
    "\n",
    "Convert [General Inquirer lexicon](http://www.wjh.harvard.edu/~inquirer/spreadsheet_guide.htm) into usable form. Download [the spreadsheet](http://www.wjh.harvard.edu/~inquirer/inquirerbasic.xls)."
   ]
  },
  {
   "cell_type": "markdown",
   "metadata": {},
   "source": [
    "# Libraries"
   ]
  },
  {
   "cell_type": "code",
   "execution_count": 1,
   "metadata": {},
   "outputs": [],
   "source": [
    "import pandas as pd\n",
    "import numpy as np"
   ]
  },
  {
   "cell_type": "markdown",
   "metadata": {},
   "source": [
    "# Pragmas"
   ]
  },
  {
   "cell_type": "code",
   "execution_count": 2,
   "metadata": {},
   "outputs": [],
   "source": [
    "%matplotlib inline"
   ]
  },
  {
   "cell_type": "markdown",
   "metadata": {
    "toc-hr-collapsed": false
   },
   "source": [
    "# Process"
   ]
  },
  {
   "cell_type": "markdown",
   "metadata": {},
   "source": [
    "## Import Excel file \n",
    "\n",
    "It has 182 ontology/sentiment columns"
   ]
  },
  {
   "cell_type": "code",
   "execution_count": 3,
   "metadata": {},
   "outputs": [],
   "source": [
    "df = pd.read_excel('inquirerbasic.xls', false_values=None)"
   ]
  },
  {
   "cell_type": "code",
   "execution_count": 4,
   "metadata": {},
   "outputs": [
    {
     "data": {
      "text/plain": [
       "(11787, 186)"
      ]
     },
     "execution_count": 4,
     "metadata": {},
     "output_type": "execute_result"
    }
   ],
   "source": [
    "# remove irregular row\n",
    "\n",
    "df = df.drop(df.index[3899])\n",
    "df.shape"
   ]
  },
  {
   "cell_type": "code",
   "execution_count": 5,
   "metadata": {},
   "outputs": [
    {
     "data": {
      "text/html": [
       "<div>\n",
       "<style scoped>\n",
       "    .dataframe tbody tr th:only-of-type {\n",
       "        vertical-align: middle;\n",
       "    }\n",
       "\n",
       "    .dataframe tbody tr th {\n",
       "        vertical-align: top;\n",
       "    }\n",
       "\n",
       "    .dataframe thead th {\n",
       "        text-align: right;\n",
       "    }\n",
       "</style>\n",
       "<table border=\"1\" class=\"dataframe\">\n",
       "  <thead>\n",
       "    <tr style=\"text-align: right;\">\n",
       "      <th></th>\n",
       "      <th>Entry</th>\n",
       "      <th>Source</th>\n",
       "      <th>Positiv</th>\n",
       "      <th>Negativ</th>\n",
       "      <th>Pstv</th>\n",
       "      <th>Affil</th>\n",
       "      <th>Ngtv</th>\n",
       "      <th>Hostile</th>\n",
       "      <th>Strong</th>\n",
       "      <th>Power</th>\n",
       "      <th>...</th>\n",
       "      <th>Anomie</th>\n",
       "      <th>NegAff</th>\n",
       "      <th>PosAff</th>\n",
       "      <th>SureLw</th>\n",
       "      <th>If</th>\n",
       "      <th>NotLw</th>\n",
       "      <th>TimeSpc</th>\n",
       "      <th>FormLw</th>\n",
       "      <th>Othtags</th>\n",
       "      <th>Defined</th>\n",
       "    </tr>\n",
       "  </thead>\n",
       "  <tbody>\n",
       "    <tr>\n",
       "      <th>11477</th>\n",
       "      <td>WELL#3</td>\n",
       "      <td>H4Lvd</td>\n",
       "      <td>NaN</td>\n",
       "      <td>NaN</td>\n",
       "      <td>NaN</td>\n",
       "      <td>NaN</td>\n",
       "      <td>NaN</td>\n",
       "      <td>NaN</td>\n",
       "      <td>NaN</td>\n",
       "      <td>NaN</td>\n",
       "      <td>...</td>\n",
       "      <td>NaN</td>\n",
       "      <td>NaN</td>\n",
       "      <td>NaN</td>\n",
       "      <td>NaN</td>\n",
       "      <td>If</td>\n",
       "      <td>NaN</td>\n",
       "      <td>NaN</td>\n",
       "      <td>NaN</td>\n",
       "      <td>PREP</td>\n",
       "      <td>| 4% prep-adv: \"As well (as)\"--in addition (to)</td>\n",
       "    </tr>\n",
       "    <tr>\n",
       "      <th>6790</th>\n",
       "      <td>MUCH</td>\n",
       "      <td>H4Lvd</td>\n",
       "      <td>NaN</td>\n",
       "      <td>NaN</td>\n",
       "      <td>NaN</td>\n",
       "      <td>NaN</td>\n",
       "      <td>NaN</td>\n",
       "      <td>NaN</td>\n",
       "      <td>Strong</td>\n",
       "      <td>NaN</td>\n",
       "      <td>...</td>\n",
       "      <td>NaN</td>\n",
       "      <td>NaN</td>\n",
       "      <td>NaN</td>\n",
       "      <td>NaN</td>\n",
       "      <td>NaN</td>\n",
       "      <td>NaN</td>\n",
       "      <td>NaN</td>\n",
       "      <td>NaN</td>\n",
       "      <td>DET PRE PRE2 PRON LY</td>\n",
       "      <td>| pron-adj-adv: Being of great quantity, amoun...</td>\n",
       "    </tr>\n",
       "    <tr>\n",
       "      <th>5024</th>\n",
       "      <td>HIERARCHY</td>\n",
       "      <td>H4Lvd</td>\n",
       "      <td>NaN</td>\n",
       "      <td>NaN</td>\n",
       "      <td>NaN</td>\n",
       "      <td>NaN</td>\n",
       "      <td>NaN</td>\n",
       "      <td>NaN</td>\n",
       "      <td>NaN</td>\n",
       "      <td>NaN</td>\n",
       "      <td>...</td>\n",
       "      <td>NaN</td>\n",
       "      <td>NaN</td>\n",
       "      <td>NaN</td>\n",
       "      <td>NaN</td>\n",
       "      <td>NaN</td>\n",
       "      <td>NaN</td>\n",
       "      <td>NaN</td>\n",
       "      <td>NaN</td>\n",
       "      <td>Noun</td>\n",
       "      <td>|</td>\n",
       "    </tr>\n",
       "    <tr>\n",
       "      <th>10134</th>\n",
       "      <td>SUFFRAGE</td>\n",
       "      <td>H4Lvd</td>\n",
       "      <td>NaN</td>\n",
       "      <td>NaN</td>\n",
       "      <td>NaN</td>\n",
       "      <td>NaN</td>\n",
       "      <td>NaN</td>\n",
       "      <td>NaN</td>\n",
       "      <td>NaN</td>\n",
       "      <td>Power</td>\n",
       "      <td>...</td>\n",
       "      <td>NaN</td>\n",
       "      <td>NaN</td>\n",
       "      <td>NaN</td>\n",
       "      <td>NaN</td>\n",
       "      <td>NaN</td>\n",
       "      <td>NaN</td>\n",
       "      <td>NaN</td>\n",
       "      <td>NaN</td>\n",
       "      <td>Noun</td>\n",
       "      <td>|</td>\n",
       "    </tr>\n",
       "    <tr>\n",
       "      <th>8701</th>\n",
       "      <td>REUNIFY</td>\n",
       "      <td>Lvd</td>\n",
       "      <td>NaN</td>\n",
       "      <td>NaN</td>\n",
       "      <td>NaN</td>\n",
       "      <td>NaN</td>\n",
       "      <td>NaN</td>\n",
       "      <td>NaN</td>\n",
       "      <td>NaN</td>\n",
       "      <td>NaN</td>\n",
       "      <td>...</td>\n",
       "      <td>NaN</td>\n",
       "      <td>NaN</td>\n",
       "      <td>NaN</td>\n",
       "      <td>NaN</td>\n",
       "      <td>NaN</td>\n",
       "      <td>NaN</td>\n",
       "      <td>NaN</td>\n",
       "      <td>NaN</td>\n",
       "      <td>SUPV</td>\n",
       "      <td>NaN</td>\n",
       "    </tr>\n",
       "    <tr>\n",
       "      <th>784</th>\n",
       "      <td>ATTRACTION</td>\n",
       "      <td>H4Lvd</td>\n",
       "      <td>Positiv</td>\n",
       "      <td>NaN</td>\n",
       "      <td>Pstv</td>\n",
       "      <td>Affil</td>\n",
       "      <td>NaN</td>\n",
       "      <td>NaN</td>\n",
       "      <td>Strong</td>\n",
       "      <td>NaN</td>\n",
       "      <td>...</td>\n",
       "      <td>NaN</td>\n",
       "      <td>NaN</td>\n",
       "      <td>NaN</td>\n",
       "      <td>NaN</td>\n",
       "      <td>NaN</td>\n",
       "      <td>NaN</td>\n",
       "      <td>NaN</td>\n",
       "      <td>NaN</td>\n",
       "      <td>Noun</td>\n",
       "      <td>|</td>\n",
       "    </tr>\n",
       "    <tr>\n",
       "      <th>2181</th>\n",
       "      <td>CONQUEROR</td>\n",
       "      <td>H4</td>\n",
       "      <td>Positiv</td>\n",
       "      <td>NaN</td>\n",
       "      <td>NaN</td>\n",
       "      <td>NaN</td>\n",
       "      <td>NaN</td>\n",
       "      <td>NaN</td>\n",
       "      <td>Strong</td>\n",
       "      <td>Power</td>\n",
       "      <td>...</td>\n",
       "      <td>NaN</td>\n",
       "      <td>NaN</td>\n",
       "      <td>NaN</td>\n",
       "      <td>NaN</td>\n",
       "      <td>NaN</td>\n",
       "      <td>NaN</td>\n",
       "      <td>NaN</td>\n",
       "      <td>NaN</td>\n",
       "      <td>Noun</td>\n",
       "      <td>|</td>\n",
       "    </tr>\n",
       "    <tr>\n",
       "      <th>6087</th>\n",
       "      <td>LIGHT#2</td>\n",
       "      <td>H4Lvd</td>\n",
       "      <td>NaN</td>\n",
       "      <td>NaN</td>\n",
       "      <td>NaN</td>\n",
       "      <td>NaN</td>\n",
       "      <td>NaN</td>\n",
       "      <td>NaN</td>\n",
       "      <td>NaN</td>\n",
       "      <td>NaN</td>\n",
       "      <td>...</td>\n",
       "      <td>NaN</td>\n",
       "      <td>NaN</td>\n",
       "      <td>NaN</td>\n",
       "      <td>NaN</td>\n",
       "      <td>NaN</td>\n",
       "      <td>NaN</td>\n",
       "      <td>NaN</td>\n",
       "      <td>NaN</td>\n",
       "      <td>SUPV</td>\n",
       "      <td>| 10% verb: To ignite, turn on</td>\n",
       "    </tr>\n",
       "    <tr>\n",
       "      <th>470</th>\n",
       "      <td>ANCIENT</td>\n",
       "      <td>H4Lvd</td>\n",
       "      <td>NaN</td>\n",
       "      <td>NaN</td>\n",
       "      <td>NaN</td>\n",
       "      <td>NaN</td>\n",
       "      <td>NaN</td>\n",
       "      <td>NaN</td>\n",
       "      <td>NaN</td>\n",
       "      <td>NaN</td>\n",
       "      <td>...</td>\n",
       "      <td>NaN</td>\n",
       "      <td>NaN</td>\n",
       "      <td>NaN</td>\n",
       "      <td>NaN</td>\n",
       "      <td>NaN</td>\n",
       "      <td>NaN</td>\n",
       "      <td>TimeSpc</td>\n",
       "      <td>NaN</td>\n",
       "      <td>Modif</td>\n",
       "      <td>|</td>\n",
       "    </tr>\n",
       "    <tr>\n",
       "      <th>7809</th>\n",
       "      <td>POOR#3</td>\n",
       "      <td>H4Lvd</td>\n",
       "      <td>NaN</td>\n",
       "      <td>Negativ</td>\n",
       "      <td>NaN</td>\n",
       "      <td>NaN</td>\n",
       "      <td>Ngtv</td>\n",
       "      <td>NaN</td>\n",
       "      <td>NaN</td>\n",
       "      <td>NaN</td>\n",
       "      <td>...</td>\n",
       "      <td>NaN</td>\n",
       "      <td>NegAff</td>\n",
       "      <td>NaN</td>\n",
       "      <td>NaN</td>\n",
       "      <td>NaN</td>\n",
       "      <td>NaN</td>\n",
       "      <td>NaN</td>\n",
       "      <td>NaN</td>\n",
       "      <td>Modif</td>\n",
       "      <td>| 3% adj: \"Poorer\"--comparative of senses 1 and 2</td>\n",
       "    </tr>\n",
       "  </tbody>\n",
       "</table>\n",
       "<p>10 rows × 186 columns</p>\n",
       "</div>"
      ],
      "text/plain": [
       "            Entry Source  Positiv  Negativ  Pstv  Affil  Ngtv Hostile  Strong  \\\n",
       "11477      WELL#3  H4Lvd      NaN      NaN   NaN    NaN   NaN     NaN     NaN   \n",
       "6790         MUCH  H4Lvd      NaN      NaN   NaN    NaN   NaN     NaN  Strong   \n",
       "5024    HIERARCHY  H4Lvd      NaN      NaN   NaN    NaN   NaN     NaN     NaN   \n",
       "10134    SUFFRAGE  H4Lvd      NaN      NaN   NaN    NaN   NaN     NaN     NaN   \n",
       "8701      REUNIFY    Lvd      NaN      NaN   NaN    NaN   NaN     NaN     NaN   \n",
       "784    ATTRACTION  H4Lvd  Positiv      NaN  Pstv  Affil   NaN     NaN  Strong   \n",
       "2181    CONQUEROR     H4  Positiv      NaN   NaN    NaN   NaN     NaN  Strong   \n",
       "6087      LIGHT#2  H4Lvd      NaN      NaN   NaN    NaN   NaN     NaN     NaN   \n",
       "470       ANCIENT  H4Lvd      NaN      NaN   NaN    NaN   NaN     NaN     NaN   \n",
       "7809       POOR#3  H4Lvd      NaN  Negativ   NaN    NaN  Ngtv     NaN     NaN   \n",
       "\n",
       "       Power  ... Anomie  NegAff PosAff SureLw   If NotLw  TimeSpc FormLw  \\\n",
       "11477    NaN  ...    NaN     NaN    NaN    NaN   If   NaN      NaN    NaN   \n",
       "6790     NaN  ...    NaN     NaN    NaN    NaN  NaN   NaN      NaN    NaN   \n",
       "5024     NaN  ...    NaN     NaN    NaN    NaN  NaN   NaN      NaN    NaN   \n",
       "10134  Power  ...    NaN     NaN    NaN    NaN  NaN   NaN      NaN    NaN   \n",
       "8701     NaN  ...    NaN     NaN    NaN    NaN  NaN   NaN      NaN    NaN   \n",
       "784      NaN  ...    NaN     NaN    NaN    NaN  NaN   NaN      NaN    NaN   \n",
       "2181   Power  ...    NaN     NaN    NaN    NaN  NaN   NaN      NaN    NaN   \n",
       "6087     NaN  ...    NaN     NaN    NaN    NaN  NaN   NaN      NaN    NaN   \n",
       "470      NaN  ...    NaN     NaN    NaN    NaN  NaN   NaN  TimeSpc    NaN   \n",
       "7809     NaN  ...    NaN  NegAff    NaN    NaN  NaN   NaN      NaN    NaN   \n",
       "\n",
       "                    Othtags                                            Defined  \n",
       "11477                  PREP    | 4% prep-adv: \"As well (as)\"--in addition (to)  \n",
       "6790   DET PRE PRE2 PRON LY  | pron-adj-adv: Being of great quantity, amoun...  \n",
       "5024                   Noun                                                  |  \n",
       "10134                  Noun                                                  |  \n",
       "8701                   SUPV                                                NaN  \n",
       "784                    Noun                                                  |  \n",
       "2181                   Noun                                                  |  \n",
       "6087                   SUPV                     | 10% verb: To ignite, turn on  \n",
       "470                   Modif                                                  |  \n",
       "7809                  Modif  | 3% adj: \"Poorer\"--comparative of senses 1 and 2  \n",
       "\n",
       "[10 rows x 186 columns]"
      ]
     },
     "execution_count": 5,
     "metadata": {},
     "output_type": "execute_result"
    }
   ],
   "source": [
    "df.sample(10)"
   ]
  },
  {
   "cell_type": "markdown",
   "metadata": {},
   "source": [
    "## Handle variant terms "
   ]
  },
  {
   "cell_type": "code",
   "execution_count": 6,
   "metadata": {},
   "outputs": [],
   "source": [
    "df['split'] = df.Entry.str.split(r'[#_]+')"
   ]
  },
  {
   "cell_type": "code",
   "execution_count": 7,
   "metadata": {},
   "outputs": [],
   "source": [
    "# Function to add 1 to terms without variants\n",
    "def add_1(x):\n",
    "    try:\n",
    "        if len(x) == 1:\n",
    "            x = x + [1]\n",
    "    except:\n",
    "        print(x)\n",
    "        x = 0\n",
    "    return x"
   ]
  },
  {
   "cell_type": "code",
   "execution_count": 8,
   "metadata": {},
   "outputs": [],
   "source": [
    "# # remove invalid rows\n",
    "# ind = [None] * len(df.split)\n",
    "# for i in range(len(df.split)): \n",
    "#     ind[i] = (type(df['split'][i]) == list)\n",
    "    \n",
    "# df['split'] = df['split'].iloc[ind, ]\n",
    "\n",
    "df['split'] = df['split'].apply(add_1)\n",
    "df['term_str'] = df['split'].apply(lambda x: x[0].lower(), 1)\n",
    "df['term_var'] = df['split'].apply(lambda x: x[1], 1)\n",
    "df = df.set_index(['term_str', 'term_var'])"
   ]
  },
  {
   "cell_type": "code",
   "execution_count": 9,
   "metadata": {},
   "outputs": [
    {
     "data": {
      "text/plain": [
       "['FALSEHOOD', 1]"
      ]
     },
     "execution_count": 9,
     "metadata": {},
     "output_type": "execute_result"
    }
   ],
   "source": [
    "df['split'][3899]"
   ]
  },
  {
   "cell_type": "code",
   "execution_count": 10,
   "metadata": {},
   "outputs": [
    {
     "data": {
      "text/html": [
       "<div>\n",
       "<style scoped>\n",
       "    .dataframe tbody tr th:only-of-type {\n",
       "        vertical-align: middle;\n",
       "    }\n",
       "\n",
       "    .dataframe tbody tr th {\n",
       "        vertical-align: top;\n",
       "    }\n",
       "\n",
       "    .dataframe thead th {\n",
       "        text-align: right;\n",
       "    }\n",
       "</style>\n",
       "<table border=\"1\" class=\"dataframe\">\n",
       "  <thead>\n",
       "    <tr style=\"text-align: right;\">\n",
       "      <th></th>\n",
       "      <th></th>\n",
       "      <th>Entry</th>\n",
       "      <th>Source</th>\n",
       "      <th>Positiv</th>\n",
       "      <th>Negativ</th>\n",
       "      <th>Pstv</th>\n",
       "      <th>Affil</th>\n",
       "      <th>Ngtv</th>\n",
       "      <th>Hostile</th>\n",
       "      <th>Strong</th>\n",
       "      <th>Power</th>\n",
       "      <th>...</th>\n",
       "      <th>NegAff</th>\n",
       "      <th>PosAff</th>\n",
       "      <th>SureLw</th>\n",
       "      <th>If</th>\n",
       "      <th>NotLw</th>\n",
       "      <th>TimeSpc</th>\n",
       "      <th>FormLw</th>\n",
       "      <th>Othtags</th>\n",
       "      <th>Defined</th>\n",
       "      <th>split</th>\n",
       "    </tr>\n",
       "    <tr>\n",
       "      <th>term_str</th>\n",
       "      <th>term_var</th>\n",
       "      <th></th>\n",
       "      <th></th>\n",
       "      <th></th>\n",
       "      <th></th>\n",
       "      <th></th>\n",
       "      <th></th>\n",
       "      <th></th>\n",
       "      <th></th>\n",
       "      <th></th>\n",
       "      <th></th>\n",
       "      <th></th>\n",
       "      <th></th>\n",
       "      <th></th>\n",
       "      <th></th>\n",
       "      <th></th>\n",
       "      <th></th>\n",
       "      <th></th>\n",
       "      <th></th>\n",
       "      <th></th>\n",
       "      <th></th>\n",
       "      <th></th>\n",
       "    </tr>\n",
       "  </thead>\n",
       "  <tbody>\n",
       "    <tr>\n",
       "      <th>a</th>\n",
       "      <th>1</th>\n",
       "      <td>A</td>\n",
       "      <td>H4Lvd</td>\n",
       "      <td>NaN</td>\n",
       "      <td>NaN</td>\n",
       "      <td>NaN</td>\n",
       "      <td>NaN</td>\n",
       "      <td>NaN</td>\n",
       "      <td>NaN</td>\n",
       "      <td>NaN</td>\n",
       "      <td>NaN</td>\n",
       "      <td>...</td>\n",
       "      <td>NaN</td>\n",
       "      <td>NaN</td>\n",
       "      <td>NaN</td>\n",
       "      <td>NaN</td>\n",
       "      <td>NaN</td>\n",
       "      <td>NaN</td>\n",
       "      <td>NaN</td>\n",
       "      <td>DET ART</td>\n",
       "      <td>| article: Indefinite singular article--some o...</td>\n",
       "      <td>[A, 1]</td>\n",
       "    </tr>\n",
       "    <tr>\n",
       "      <th>abandon</th>\n",
       "      <th>1</th>\n",
       "      <td>ABANDON</td>\n",
       "      <td>H4Lvd</td>\n",
       "      <td>NaN</td>\n",
       "      <td>Negativ</td>\n",
       "      <td>NaN</td>\n",
       "      <td>NaN</td>\n",
       "      <td>Ngtv</td>\n",
       "      <td>NaN</td>\n",
       "      <td>NaN</td>\n",
       "      <td>NaN</td>\n",
       "      <td>...</td>\n",
       "      <td>NaN</td>\n",
       "      <td>NaN</td>\n",
       "      <td>NaN</td>\n",
       "      <td>NaN</td>\n",
       "      <td>NaN</td>\n",
       "      <td>NaN</td>\n",
       "      <td>NaN</td>\n",
       "      <td>SUPV</td>\n",
       "      <td>|</td>\n",
       "      <td>[ABANDON, 1]</td>\n",
       "    </tr>\n",
       "    <tr>\n",
       "      <th>abandonment</th>\n",
       "      <th>1</th>\n",
       "      <td>ABANDONMENT</td>\n",
       "      <td>H4</td>\n",
       "      <td>NaN</td>\n",
       "      <td>Negativ</td>\n",
       "      <td>NaN</td>\n",
       "      <td>NaN</td>\n",
       "      <td>NaN</td>\n",
       "      <td>NaN</td>\n",
       "      <td>NaN</td>\n",
       "      <td>NaN</td>\n",
       "      <td>...</td>\n",
       "      <td>NaN</td>\n",
       "      <td>NaN</td>\n",
       "      <td>NaN</td>\n",
       "      <td>NaN</td>\n",
       "      <td>NaN</td>\n",
       "      <td>NaN</td>\n",
       "      <td>NaN</td>\n",
       "      <td>Noun</td>\n",
       "      <td>|</td>\n",
       "      <td>[ABANDONMENT, 1]</td>\n",
       "    </tr>\n",
       "    <tr>\n",
       "      <th>abate</th>\n",
       "      <th>1</th>\n",
       "      <td>ABATE</td>\n",
       "      <td>H4Lvd</td>\n",
       "      <td>NaN</td>\n",
       "      <td>Negativ</td>\n",
       "      <td>NaN</td>\n",
       "      <td>NaN</td>\n",
       "      <td>NaN</td>\n",
       "      <td>NaN</td>\n",
       "      <td>NaN</td>\n",
       "      <td>NaN</td>\n",
       "      <td>...</td>\n",
       "      <td>NaN</td>\n",
       "      <td>NaN</td>\n",
       "      <td>NaN</td>\n",
       "      <td>NaN</td>\n",
       "      <td>NaN</td>\n",
       "      <td>NaN</td>\n",
       "      <td>NaN</td>\n",
       "      <td>SUPV</td>\n",
       "      <td>|</td>\n",
       "      <td>[ABATE, 1]</td>\n",
       "    </tr>\n",
       "    <tr>\n",
       "      <th>abatement</th>\n",
       "      <th>1</th>\n",
       "      <td>ABATEMENT</td>\n",
       "      <td>Lvd</td>\n",
       "      <td>NaN</td>\n",
       "      <td>NaN</td>\n",
       "      <td>NaN</td>\n",
       "      <td>NaN</td>\n",
       "      <td>NaN</td>\n",
       "      <td>NaN</td>\n",
       "      <td>NaN</td>\n",
       "      <td>NaN</td>\n",
       "      <td>...</td>\n",
       "      <td>NaN</td>\n",
       "      <td>NaN</td>\n",
       "      <td>NaN</td>\n",
       "      <td>NaN</td>\n",
       "      <td>NaN</td>\n",
       "      <td>NaN</td>\n",
       "      <td>NaN</td>\n",
       "      <td>Noun</td>\n",
       "      <td>NaN</td>\n",
       "      <td>[ABATEMENT, 1]</td>\n",
       "    </tr>\n",
       "  </tbody>\n",
       "</table>\n",
       "<p>5 rows × 187 columns</p>\n",
       "</div>"
      ],
      "text/plain": [
       "                            Entry Source Positiv  Negativ Pstv Affil  Ngtv  \\\n",
       "term_str    term_var                                                         \n",
       "a           1                   A  H4Lvd     NaN      NaN  NaN   NaN   NaN   \n",
       "abandon     1             ABANDON  H4Lvd     NaN  Negativ  NaN   NaN  Ngtv   \n",
       "abandonment 1         ABANDONMENT     H4     NaN  Negativ  NaN   NaN   NaN   \n",
       "abate       1               ABATE  H4Lvd     NaN  Negativ  NaN   NaN   NaN   \n",
       "abatement   1           ABATEMENT    Lvd     NaN      NaN  NaN   NaN   NaN   \n",
       "\n",
       "                     Hostile Strong Power  ... NegAff PosAff SureLw   If  \\\n",
       "term_str    term_var                       ...                             \n",
       "a           1            NaN    NaN   NaN  ...    NaN    NaN    NaN  NaN   \n",
       "abandon     1            NaN    NaN   NaN  ...    NaN    NaN    NaN  NaN   \n",
       "abandonment 1            NaN    NaN   NaN  ...    NaN    NaN    NaN  NaN   \n",
       "abate       1            NaN    NaN   NaN  ...    NaN    NaN    NaN  NaN   \n",
       "abatement   1            NaN    NaN   NaN  ...    NaN    NaN    NaN  NaN   \n",
       "\n",
       "                     NotLw TimeSpc FormLw  Othtags  \\\n",
       "term_str    term_var                                 \n",
       "a           1          NaN     NaN    NaN  DET ART   \n",
       "abandon     1          NaN     NaN    NaN     SUPV   \n",
       "abandonment 1          NaN     NaN    NaN     Noun   \n",
       "abate       1          NaN     NaN    NaN     SUPV   \n",
       "abatement   1          NaN     NaN    NaN     Noun   \n",
       "\n",
       "                                                                Defined  \\\n",
       "term_str    term_var                                                      \n",
       "a           1         | article: Indefinite singular article--some o...   \n",
       "abandon     1                                                         |   \n",
       "abandonment 1                                                         |   \n",
       "abate       1                                                         |   \n",
       "abatement   1                                                       NaN   \n",
       "\n",
       "                                 split  \n",
       "term_str    term_var                    \n",
       "a           1                   [A, 1]  \n",
       "abandon     1             [ABANDON, 1]  \n",
       "abandonment 1         [ABANDONMENT, 1]  \n",
       "abate       1               [ABATE, 1]  \n",
       "abatement   1           [ABATEMENT, 1]  \n",
       "\n",
       "[5 rows x 187 columns]"
      ]
     },
     "execution_count": 10,
     "metadata": {},
     "output_type": "execute_result"
    }
   ],
   "source": [
    "df.head()"
   ]
  },
  {
   "cell_type": "markdown",
   "metadata": {},
   "source": [
    "## Convert column values to numbers"
   ]
  },
  {
   "cell_type": "code",
   "execution_count": 11,
   "metadata": {},
   "outputs": [
    {
     "name": "stderr",
     "output_type": "stream",
     "text": [
      "C:\\Users\\Fang\\Anaconda3\\lib\\site-packages\\IPython\\core\\interactiveshell.py:2843: PerformanceWarning: indexing past lexsort depth may impact performance.\n",
      "  raw_cell, store_history, silent, shell_futures)\n"
     ]
    }
   ],
   "source": [
    "try:\n",
    "    df.loc[df.Positiv == 'Positiv', 'polarity'] = 1\n",
    "    df.loc[df.Negativ == 'Negativ', 'polarity'] = -1\n",
    "    df['polarity'] = df['polarity'].fillna(0)\n",
    "except TypeError as e:\n",
    "    print(e, \"--  This means you are re-running the script with values that have already been set.\")"
   ]
  },
  {
   "cell_type": "code",
   "execution_count": 12,
   "metadata": {},
   "outputs": [
    {
     "data": {
      "text/plain": [
       "term_str     term_var\n",
       "prosperous   1           1.0\n",
       "to           7           0.0\n",
       "floor        4           0.0\n",
       "way          10          0.0\n",
       "nobleman     1           1.0\n",
       "grown        6           0.0\n",
       "throw        6           0.0\n",
       "body         3           0.0\n",
       "recognition  1           0.0\n",
       "wash         3           0.0\n",
       "Name: polarity, dtype: float64"
      ]
     },
     "execution_count": 12,
     "metadata": {},
     "output_type": "execute_result"
    }
   ],
   "source": [
    "df.polarity.sample(10)"
   ]
  },
  {
   "cell_type": "code",
   "execution_count": 13,
   "metadata": {},
   "outputs": [],
   "source": [
    "VALCOLS = df.columns[2:-4]"
   ]
  },
  {
   "cell_type": "code",
   "execution_count": 14,
   "metadata": {},
   "outputs": [],
   "source": [
    "for col in VALCOLS:\n",
    "    df[col] = df[col].fillna(0).astype('bool').astype('int')"
   ]
  },
  {
   "cell_type": "code",
   "execution_count": 15,
   "metadata": {},
   "outputs": [
    {
     "data": {
      "text/plain": [
       "term_var         \n",
       "1         Positiv    1\n",
       "5         Active     1\n",
       "2         AffOth     1\n",
       "1         AffTot     1\n",
       "          AffGain    1\n",
       "5         SocRel     1\n",
       "3         AffGain    1\n",
       "          AffTot     1\n",
       "1         SV         1\n",
       "5         Strong     1\n",
       "4         AffGain    1\n",
       "5         Affil      1\n",
       "4         Positiv    1\n",
       "          Pstv       1\n",
       "          Affil      1\n",
       "          Passive    1\n",
       "          Pleasur    1\n",
       "          EMOT       1\n",
       "2         Positiv    1\n",
       "          Pstv       1\n",
       "          Affil      1\n",
       "          Passive    1\n",
       "6         SocRel     1\n",
       "          Affil      1\n",
       "3         Positiv    1\n",
       "          Pstv       1\n",
       "          Affil      1\n",
       "          Passive    1\n",
       "          Pleasur    1\n",
       "          EMOT       1\n",
       "                    ..\n",
       "5         RcGain     0\n",
       "          RcEnds     0\n",
       "          Self       0\n",
       "          RcTot      0\n",
       "          RspGain    0\n",
       "          RspLoss    0\n",
       "          RspOth     0\n",
       "          RspTot     0\n",
       "          AffLoss    0\n",
       "          AffPt      0\n",
       "          PowPt      0\n",
       "          PowAuPt    0\n",
       "          PowCoop    0\n",
       "          PowCon     0\n",
       "          Our        0\n",
       "          You        0\n",
       "          Name       0\n",
       "          Yes        0\n",
       "          No         0\n",
       "          Negate     0\n",
       "          Intrj      0\n",
       "          DAV        0\n",
       "          SV         0\n",
       "          IPadj      0\n",
       "          IndAdj     0\n",
       "          PowGain    0\n",
       "          PowLoss    0\n",
       "          PowEnds    0\n",
       "          PowAren    0\n",
       "4         Abs@       0\n",
       "Length: 1274, dtype: int32"
      ]
     },
     "execution_count": 15,
     "metadata": {},
     "output_type": "execute_result"
    }
   ],
   "source": [
    "df.loc['love', VALCOLS].stack().sort_values(ascending=False)"
   ]
  },
  {
   "cell_type": "code",
   "execution_count": 16,
   "metadata": {},
   "outputs": [],
   "source": [
    "# # Handle terms with multiple entries\n",
    "# VAR_COUNTS = df.reset_index().groupby(['term_str']).term_var.count()\\\n",
    "#     .to_frame().rename(columns={'term_var':'n_vars'})\n",
    "# SINGLES = VAR_COUNTS == 1\n",
    "# SINGLES.head()\n",
    "# df.loc['a'].T\n",
    "# df.loc[SINGLES.n_vars.values]"
   ]
  },
  {
   "cell_type": "markdown",
   "metadata": {
    "toc-hr-collapsed": true
   },
   "source": [
    "## Take and combine only sentiment "
   ]
  },
  {
   "cell_type": "code",
   "execution_count": 17,
   "metadata": {},
   "outputs": [],
   "source": [
    "sents = df.query(\"Positiv > 0 | Negativ > 0\").copy()"
   ]
  },
  {
   "cell_type": "code",
   "execution_count": 18,
   "metadata": {},
   "outputs": [],
   "source": [
    "sents['sentiment'] =  sents.Positiv  - sents.Negativ"
   ]
  },
  {
   "cell_type": "code",
   "execution_count": 19,
   "metadata": {},
   "outputs": [
    {
     "data": {
      "text/plain": [
       "term_str   term_var\n",
       "horrify    1          -1\n",
       "nuisance   1          -1\n",
       "subside    1          -1\n",
       "objection  1          -1\n",
       "unguarded  1          -1\n",
       "Name: sentiment, dtype: int32"
      ]
     },
     "execution_count": 19,
     "metadata": {},
     "output_type": "execute_result"
    }
   ],
   "source": [
    "sents['sentiment'].sample(5)"
   ]
  },
  {
   "cell_type": "markdown",
   "metadata": {},
   "source": [
    "### Take average of variants"
   ]
  },
  {
   "cell_type": "code",
   "execution_count": 20,
   "metadata": {},
   "outputs": [],
   "source": [
    "GI = sents.groupby('term_str').sentiment.mean()"
   ]
  },
  {
   "cell_type": "markdown",
   "metadata": {},
   "source": [
    "### Snap values to -1, 0, or 1"
   ]
  },
  {
   "cell_type": "code",
   "execution_count": 21,
   "metadata": {},
   "outputs": [],
   "source": [
    "GI = np.sign(GI).astype('int').to_frame()"
   ]
  },
  {
   "cell_type": "code",
   "execution_count": 22,
   "metadata": {},
   "outputs": [
    {
     "data": {
      "text/plain": [
       "(3625, 1)"
      ]
     },
     "execution_count": 22,
     "metadata": {},
     "output_type": "execute_result"
    }
   ],
   "source": [
    "GI.shape"
   ]
  },
  {
   "cell_type": "code",
   "execution_count": 23,
   "metadata": {},
   "outputs": [
    {
     "data": {
      "text/html": [
       "<div>\n",
       "<style scoped>\n",
       "    .dataframe tbody tr th:only-of-type {\n",
       "        vertical-align: middle;\n",
       "    }\n",
       "\n",
       "    .dataframe tbody tr th {\n",
       "        vertical-align: top;\n",
       "    }\n",
       "\n",
       "    .dataframe thead th {\n",
       "        text-align: right;\n",
       "    }\n",
       "</style>\n",
       "<table border=\"1\" class=\"dataframe\">\n",
       "  <thead>\n",
       "    <tr style=\"text-align: right;\">\n",
       "      <th></th>\n",
       "      <th>sentiment</th>\n",
       "    </tr>\n",
       "    <tr>\n",
       "      <th>term_str</th>\n",
       "      <th></th>\n",
       "    </tr>\n",
       "  </thead>\n",
       "  <tbody>\n",
       "    <tr>\n",
       "      <th>abandon</th>\n",
       "      <td>-1</td>\n",
       "    </tr>\n",
       "    <tr>\n",
       "      <th>abandonment</th>\n",
       "      <td>-1</td>\n",
       "    </tr>\n",
       "    <tr>\n",
       "      <th>abate</th>\n",
       "      <td>-1</td>\n",
       "    </tr>\n",
       "    <tr>\n",
       "      <th>abdicate</th>\n",
       "      <td>-1</td>\n",
       "    </tr>\n",
       "    <tr>\n",
       "      <th>abhor</th>\n",
       "      <td>-1</td>\n",
       "    </tr>\n",
       "  </tbody>\n",
       "</table>\n",
       "</div>"
      ],
      "text/plain": [
       "             sentiment\n",
       "term_str              \n",
       "abandon             -1\n",
       "abandonment         -1\n",
       "abate               -1\n",
       "abdicate            -1\n",
       "abhor               -1"
      ]
     },
     "execution_count": 23,
     "metadata": {},
     "output_type": "execute_result"
    }
   ],
   "source": [
    "GI.head()"
   ]
  },
  {
   "cell_type": "markdown",
   "metadata": {
    "toc-hr-collapsed": true
   },
   "source": [
    "# Save"
   ]
  },
  {
   "cell_type": "code",
   "execution_count": 25,
   "metadata": {},
   "outputs": [],
   "source": [
    "GI.to_csv('gi.csv')"
   ]
  },
  {
   "cell_type": "code",
   "execution_count": null,
   "metadata": {},
   "outputs": [],
   "source": []
  }
 ],
 "metadata": {
  "kernelspec": {
   "display_name": "Python 3",
   "language": "python",
   "name": "python3"
  },
  "language_info": {
   "codemirror_mode": {
    "name": "ipython",
    "version": 3
   },
   "file_extension": ".py",
   "mimetype": "text/x-python",
   "name": "python",
   "nbconvert_exporter": "python",
   "pygments_lexer": "ipython3",
   "version": "3.6.8"
  }
 },
 "nbformat": 4,
 "nbformat_minor": 2
}
